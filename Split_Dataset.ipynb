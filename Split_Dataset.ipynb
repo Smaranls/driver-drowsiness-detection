{
 "cells": [
  {
   "cell_type": "code",
   "execution_count": 2,
   "id": "bffab6f3",
   "metadata": {},
   "outputs": [
    {
     "name": "stderr",
     "output_type": "stream",
     "text": [
      "Copying test images:   1%|▌                                                       | 44/4194 [00:00<00:10, 411.90file/s]"
     ]
    },
    {
     "name": "stdout",
     "output_type": "stream",
     "text": [
      "Copying test images...\n"
     ]
    },
    {
     "name": "stderr",
     "output_type": "stream",
     "text": [
      "Copying test images: 100%|██████████████████████████████████████████████████████| 4194/4194 [00:09<00:00, 429.40file/s]\n",
      "Copying train images:   0%|▏                                                   | 132/37752 [00:00<00:28, 1310.71file/s]"
     ]
    },
    {
     "name": "stdout",
     "output_type": "stream",
     "text": [
      "Copying train images...\n"
     ]
    },
    {
     "name": "stderr",
     "output_type": "stream",
     "text": [
      "Copying train images: 100%|███████████████████████████████████████████████████| 37752/37752 [01:22<00:00, 455.40file/s]"
     ]
    },
    {
     "name": "stdout",
     "output_type": "stream",
     "text": [
      "Copied 4194 images to D:\\7th_sem\\project\\Prepared_Data\\test\\Closed_Eyes\n",
      "Copied 37752 images to D:\\7th_sem\\project\\Prepared_Data\\train\\Closed_Eyes\n"
     ]
    },
    {
     "name": "stderr",
     "output_type": "stream",
     "text": [
      "\n"
     ]
    }
   ],
   "source": [
    "import os\n",
    "import shutil\n",
    "import random\n",
    "from tqdm import tqdm  # Import tqdm for the progress bar\n",
    "\n",
    "# Define the source directory and the destination directories\n",
    "source_dir = r'D:\\7th_sem\\project\\Prepared_Data\\Closed_Eyes'  # Replace with your source folder path\n",
    "test_dir = r'D:\\7th_sem\\project\\Prepared_Data\\test\\Closed_Eyes'  # Replace with your test folder path\n",
    "train_dir = r'D:\\7th_sem\\project\\Prepared_Data\\train\\Closed_Eyes'  # Replace with your train folder path\n",
    "\n",
    "all_files = os.listdir(source_dir)\n",
    "\n",
    "# Filter the list to only include image files (assuming .jpg, .jpeg, .png, etc.)\n",
    "image_files = [file for file in all_files if file.endswith(('.jpg', '.jpeg', '.png', '.gif', '.bmp'))]\n",
    "\n",
    "# Calculate 10% of the images for the test set\n",
    "num_test_images = int(len(image_files) * 0.1)\n",
    "\n",
    "# Randomly select 10% of the images for the test set\n",
    "test_images = random.sample(image_files, num_test_images)\n",
    "\n",
    "# The remaining images will be used for the training set\n",
    "train_images = list(set(image_files) - set(test_images))\n",
    "\n",
    "# Copy the test images to the test directory with a progress bar\n",
    "print(\"Copying test images...\")\n",
    "for image in tqdm(test_images, desc=\"Copying test images\", unit=\"file\"):\n",
    "    src_path = os.path.join(source_dir, image)\n",
    "    dst_path = os.path.join(test_dir, image)\n",
    "    shutil.copy(src_path, dst_path)\n",
    "\n",
    "# Copy the train images to the train directory with a progress bar\n",
    "print(\"Copying train images...\")\n",
    "for image in tqdm(train_images, desc=\"Copying train images\", unit=\"file\"):\n",
    "    src_path = os.path.join(source_dir, image)\n",
    "    dst_path = os.path.join(train_dir, image)\n",
    "    shutil.copy(src_path, dst_path)\n",
    "\n",
    "print(f\"Copied {len(test_images)} images to {test_dir}\")\n",
    "print(f\"Copied {len(train_images)} images to {train_dir}\")"
   ]
  },
  {
   "cell_type": "code",
   "execution_count": null,
   "id": "128c0823",
   "metadata": {},
   "outputs": [],
   "source": []
  },
  {
   "cell_type": "code",
   "execution_count": 4,
   "id": "b8f7dfb5",
   "metadata": {},
   "outputs": [
    {
     "name": "stderr",
     "output_type": "stream",
     "text": [
      "Copying test images:   0%|▏                                                       | 14/4295 [00:00<00:32, 133.23file/s]"
     ]
    },
    {
     "name": "stdout",
     "output_type": "stream",
     "text": [
      "Copying test images...\n"
     ]
    },
    {
     "name": "stderr",
     "output_type": "stream",
     "text": [
      "Copying test images: 100%|██████████████████████████████████████████████████████| 4295/4295 [00:33<00:00, 127.93file/s]\n",
      "Copying train images:   0%|                                                      | 14/38657 [00:00<04:40, 137.56file/s]"
     ]
    },
    {
     "name": "stdout",
     "output_type": "stream",
     "text": [
      "Copying train images...\n"
     ]
    },
    {
     "name": "stderr",
     "output_type": "stream",
     "text": [
      "Copying train images: 100%|███████████████████████████████████████████████████| 38657/38657 [05:04<00:00, 126.75file/s]"
     ]
    },
    {
     "name": "stdout",
     "output_type": "stream",
     "text": [
      "Copied 4295 images to D:\\7th_sem\\project\\Prepared_Data\\test\\Open_Eyes\n",
      "Copied 38657 images to D:\\7th_sem\\project\\Prepared_Data\\train\\Open_Eyes\n"
     ]
    },
    {
     "name": "stderr",
     "output_type": "stream",
     "text": [
      "\n"
     ]
    }
   ],
   "source": [
    "#same for open eyes \n",
    "\n",
    "source_dir = r'D:\\7th_sem\\project\\Prepared_Data\\Open_Eyes'  # Replace with your source folder path\n",
    "test_dir = r'D:\\7th_sem\\project\\Prepared_Data\\test\\Open_Eyes'  # Replace with your test folder path\n",
    "train_dir = r'D:\\7th_sem\\project\\Prepared_Data\\train\\Open_Eyes'  # Replace with your train folder path\n",
    "\n",
    "all_files = os.listdir(source_dir)\n",
    "\n",
    "# Filter the list to only include image files (assuming .jpg, .jpeg, .png, etc.)\n",
    "image_files = [file for file in all_files if file.endswith(('.jpg', '.jpeg', '.png', '.gif', '.bmp'))]\n",
    "\n",
    "# Calculate 10% of the images for the test set\n",
    "num_test_images = int(len(image_files) * 0.1)\n",
    "\n",
    "# Randomly select 10% of the images for the test set\n",
    "test_images = random.sample(image_files, num_test_images)\n",
    "\n",
    "# The remaining images will be used for the training set\n",
    "train_images = list(set(image_files) - set(test_images))\n",
    "\n",
    "# Copy the test images to the test directory with a progress bar\n",
    "print(\"Copying test images...\")\n",
    "for image in tqdm(test_images, desc=\"Copying test images\", unit=\"file\"):\n",
    "    src_path = os.path.join(source_dir, image)\n",
    "    dst_path = os.path.join(test_dir, image)\n",
    "    shutil.copy(src_path, dst_path)\n",
    "\n",
    "# Copy the train images to the train directory with a progress bar\n",
    "print(\"Copying train images...\")\n",
    "for image in tqdm(train_images, desc=\"Copying train images\", unit=\"file\"):\n",
    "    src_path = os.path.join(source_dir, image)\n",
    "    dst_path = os.path.join(train_dir, image)\n",
    "    shutil.copy(src_path, dst_path)\n",
    "\n",
    "print(f\"Copied {len(test_images)} images to {test_dir}\")\n",
    "print(f\"Copied {len(train_images)} images to {train_dir}\")\n"
   ]
  },
  {
   "cell_type": "code",
   "execution_count": null,
   "id": "036e8d08",
   "metadata": {},
   "outputs": [],
   "source": []
  }
 ],
 "metadata": {
  "kernelspec": {
   "display_name": "Python 3",
   "language": "python",
   "name": "python3"
  },
  "language_info": {
   "codemirror_mode": {
    "name": "ipython",
    "version": 3
   },
   "file_extension": ".py",
   "mimetype": "text/x-python",
   "name": "python",
   "nbconvert_exporter": "python",
   "pygments_lexer": "ipython3",
   "version": "3.8.8"
  }
 },
 "nbformat": 4,
 "nbformat_minor": 5
}
